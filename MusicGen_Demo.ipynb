!python3 -m pip install -U git+https://github.com/facebookresearch/audiocraft#egg=audiocraft
!python3 -m pip install -U audiocraft
!pip install audiocraft
!pip install joblib

import audiocraft
from audiocraft.models import musicgen
from audiocraft.utils.notebook import display_audio
import torch
import joblib

print(torch.cuda.is_available())

try:
    # Try to use GPU
    device = torch.device("cuda")
    # Test GPU availability
    torch.randn(1).to(device)
    print("Using GPU")
except (RuntimeError, AssertionError):
    # Fallback to CPU
    device = torch.device("cpu")
    print("CUDA not available, using CPU")

from audiocraft.models import MusicGen
model = MusicGen.get_pretrained('medium', device=device)

model.set_generation_params(duration=8)

print(f"Model loaded on {device} with generation duration of 8 seconds.")

joblib.dump(model, 'musicgen_model.pkl')
print("Model saved as 'musicgen_model.pkl'")

res = model.generate([
    'crazy EDM, heavy bang',
    'classic reggae track with an electronic guitar solo',
    'lofi slow bpm electro chill with organic samples',
    'rock with saturated guitars, a heavy bass line and crazy drum break and fills.',
    'earthy tones, environmentally conscious, ukulele-infused, harmonic, breezy, easygoing, organic instrumentation, gentle grooves',
], progress=True)
display_audio(res, 32000)
